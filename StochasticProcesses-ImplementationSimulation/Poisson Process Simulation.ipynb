{
 "cells": [
  {
   "cell_type": "markdown",
   "id": "a14c0bc0",
   "metadata": {},
   "source": [
    "### Poisson  Process Simulation"
   ]
  },
  {
   "cell_type": "code",
   "execution_count": 15,
   "id": "f39d58e3",
   "metadata": {},
   "outputs": [],
   "source": [
    "import numpy as np\n",
    "import matplotlib.pyplot as plt "
   ]
  },
  {
   "cell_type": "code",
   "execution_count": 59,
   "id": "88e99582",
   "metadata": {},
   "outputs": [],
   "source": [
    "# Simulate a Poisson process with rate lambda\n",
    "\n",
    "n=20 # number of simulations\n",
    "lam=5 # rate of the Poisson process\n",
    "timespan=100 # time span of the Poisson process\n"
   ]
  },
  {
   "cell_type": "code",
   "execution_count": 60,
   "id": "665c99cc",
   "metadata": {},
   "outputs": [],
   "source": [
    "def poisson_simulation(size, lam, timespan):\n",
    "    \"\"\"\n",
    "    Simulate a Poisson process for a given time span.\n",
    "\n",
    "    Parameters:\n",
    "    size (int): The maximum number of events to simulate.\n",
    "    lam (float): The Poisson process rate parameter.\n",
    "    timespan (float): The time span for which the process is simulated.\n",
    "\n",
    "    Returns:\n",
    "    numpy.ndarray: An array containing the event occurrence times.\n",
    "    numpy.ndarray: An array containing the event counts at each occurrence time.\n",
    "    \"\"\"\n",
    "    i = 0\n",
    "    t = 0\n",
    "    s = [0]\n",
    "    counter = [i]\n",
    "    for j in range(1, size + 1):\n",
    "        U_1 = np.random.uniform(0, 1)\n",
    "        t = t - (np.log(U_1) / lam)\n",
    "        s.append(t)\n",
    "        if t > timespan:\n",
    "            break\n",
    "        else:\n",
    "            U_2 = np.random.uniform(0, 1)\n",
    "            i = i + np.floor(11 * U_2) + 10\n",
    "        counter.append(i)\n",
    "\n",
    "    return np.array(s), np.array(counter)\n"
   ]
  },
  {
   "cell_type": "code",
   "execution_count": 55,
   "id": "5a1cff69",
   "metadata": {},
   "outputs": [],
   "source": [
    "# Simulate the Poisson process\n",
    "time,counting = poisson_simulation(n,lam,timespan)"
   ]
  },
  {
   "cell_type": "code",
   "execution_count": 69,
   "id": "fc7620c6",
   "metadata": {},
   "outputs": [
    {
     "name": "stderr",
     "output_type": "stream",
     "text": [
      "No handles with labels found to put in legend.\n"
     ]
    },
    {
     "data": {
      "text/plain": [
       "<matplotlib.legend.Legend at 0x1d054060e20>"
      ]
     },
     "execution_count": 69,
     "metadata": {},
     "output_type": "execute_result"
    },
    {
     "data": {
      "image/png": "[encoded data removed]",
      "text/plain": [
       "<Figure size 432x288 with 1 Axes>"
      ]
     },
     "metadata": {
      "needs_background": "light"
     },
     "output_type": "display_data"
    }
   ],
   "source": [
    "# Plot the results\n",
    "plt.plot(time,counting,marker='o', linestyle='none')\n",
    "plt.title(\"Sample Poisson Process\")\n",
    "plt.xlabel(\"time\")\n",
    "plt.ylabel(\"events\")\n",
    "plt.legend()"
   ]
  },
  {
   "cell_type": "code",
   "execution_count": null,
   "id": "a423fa65",
   "metadata": {},
   "outputs": [],
   "source": []
  }
 ],
 "metadata": {
  "kernelspec": {
   "display_name": "Python 3.10.8 64-bit (microsoft store)",
   "language": "python",
   "name": "python3"
  },
  "language_info": {
   "codemirror_mode": {
    "name": "ipython",
    "version": 3
   },
   "file_extension": ".py",
   "mimetype": "text/x-python",
   "name": "python",
   "nbconvert_exporter": "python",
   "pygments_lexer": "ipython3",
   "version": "3.10.8"
  },
  "vscode": {
   "interpreter": {
    "hash": "b7017eaa3a1146aa3353aaf1d457acd0d42a48245368b654c92322235b5e5999"
   }
  }
 },
 "nbformat": 4,
 "nbformat_minor": 5
}
