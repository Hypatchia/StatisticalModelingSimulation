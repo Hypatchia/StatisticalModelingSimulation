{
 "cells": [
  {
   "cell_type": "code",
   "execution_count": 1,
   "id": "70301298",
   "metadata": {},
   "outputs": [],
   "source": [
    "import numpy as np\n",
    "import matplotlib.pyplot as plt"
   ]
  },
  {
   "cell_type": "markdown",
   "id": "7ee1b51f",
   "metadata": {},
   "source": [
    "* **Discrete Probability Dostributions**\n",
    "    * **Brnoulli Distribution** \n",
    "        * use case : \n",
    "        \n",
    "        * Assumptions :\n",
    "            1. One Trial\n",
    "            2. two outcomes : in which the existence of one eliminates the existence of the other\n",
    "        * PMF :\n",
    "            f(x) = {p if success of the trial and 1-P if failure of the trial }\n",
    "        * Simulation :\n",
    "                * we generate by defining a random variable with two outcomes : \n",
    "                   ```python\n",
    "                       import numpy as np\n",
    "                       np.random.choice([\"success\",\"failure\"],p=(0.5,0.5))\n",
    "                       ```\n",
    "    * **Binomial Distribution**             ```\n",
    "       * Assumptions :\n",
    "           1. Each triel has 2 outcomes( follows bernoulli)\n",
    "           2. there are n identical trials \n",
    "           3. the outcomes of trials are independent of eachother\n",
    "           "
   ]
  },
  {
   "cell_type": "code",
   "execution_count": 22,
   "id": "c9ced0b6",
   "metadata": {
    "scrolled": false
   },
   "outputs": [
    {
     "name": "stdout",
     "output_type": "stream",
     "text": [
      "[79 83 77 ... 73 75 82]\n"
     ]
    },
    {
     "data": {
      "image/png": "[encoded data removed]",
      "text/plain": [
       "<Figure size 432x288 with 1 Axes>"
      ]
     },
     "metadata": {
      "needs_background": "light"
     },
     "output_type": "display_data"
    }
   ],
   "source": [
    "n= 100 #the number of independent experiments\n",
    "p =0.78 #probability of a success \n",
    "size = 10000 #number of realizations\n",
    "\"\"\"\n",
    "we simulate a set of size random variables following a binomial distribution \n",
    "with probability of success p \n",
    "\n",
    "We are not calculating the probability that the outcome of a random variable is k as\n",
    "we do in probability theory \n",
    "we are generating random variables that follow a proba dist of param p for n trials\n",
    "\n",
    "\n",
    "\"\"\"\n",
    "\n",
    "\n",
    "def binomial_simulation(n,p,size):\n",
    "    l=[]\n",
    "    for j in range(size):\n",
    "        cpt=0\n",
    "        for i in range(n):\n",
    "            U = np.random.uniform(0,1)\n",
    "            if U<=p:\n",
    "                cpt=cpt+1\n",
    "        X=cpt\n",
    "        l.append(X)\n",
    "    plt.hist(l)\n",
    "    return np.array(l)\n",
    "            \n",
    "print(binomial_simulation(n,p,size))"
   ]
  },
  {
   "cell_type": "code",
   "execution_count": 15,
   "id": "86dc4987",
   "metadata": {},
   "outputs": [
    {
     "data": {
      "text/plain": [
       "array([71, 81, 75, 80, 82, 80, 79, 71, 78, 78, 77, 77, 75, 72, 76, 80, 81,\n",
       "       76, 73, 74, 80, 72, 73, 77, 73, 79, 79, 76, 71, 76, 78, 71, 83, 76,\n",
       "       80, 76, 83, 82, 79, 75, 82, 69, 82, 78, 80, 78, 79, 73, 77, 81, 74,\n",
       "       83, 72, 81, 80, 72, 72, 88, 81, 78, 84, 77, 80, 80, 82, 76, 71, 75,\n",
       "       81, 80, 78, 85, 82, 78, 78, 82, 83, 73, 86, 80, 78, 80, 78, 82, 81,\n",
       "       80, 67, 86, 76, 82, 82, 77, 72, 71, 75, 81, 76, 81, 80, 79])"
      ]
     },
     "execution_count": 15,
     "metadata": {},
     "output_type": "execute_result"
    }
   ],
   "source": [
    "np.random.binomial(n,p,size)"
   ]
  },
  {
   "cell_type": "code",
   "execution_count": 23,
   "id": "d8acaa67",
   "metadata": {},
   "outputs": [
    {
     "name": "stdout",
     "output_type": "stream",
     "text": [
      "[0.30665875 1.2458362  3.52926167 ... 3.06555502 3.77023864 1.37519894]\n"
     ]
    },
    {
     "data": {
      "image/png": "[encoded data removed]",
      "text/plain": [
       "<Figure size 432x288 with 1 Axes>"
      ]
     },
     "metadata": {
      "needs_background": "light"
     },
     "output_type": "display_data"
    }
   ],
   "source": [
    "lam=0.5\n",
    "\n",
    "#Exponential Distribution :\n",
    "def exponential_simulation(lam,size):\n",
    "    l=[]\n",
    "    for i in range(size):\n",
    "        U= np.random.uniform(0,1)\n",
    "        X= -(np.log(U))/lam\n",
    "        l.append(X)\n",
    "    plt.hist(l)\n",
    "    return np.array(l)\n",
    "\n",
    "print(exponential_simulation(lam,size))"
   ]
  },
  {
   "cell_type": "code",
   "execution_count": 13,
   "id": "921b5e9f",
   "metadata": {},
   "outputs": [
    {
     "name": "stdout",
     "output_type": "stream",
     "text": [
      "[1.28594608e+00 3.15912134e-01 6.24772583e-01 8.25949838e-01\n",
      " 5.05111488e-01 6.80762560e-02 7.87853448e-02 1.08121951e+00\n",
      " 8.76847597e-02 2.78515767e-02 4.69620803e-02 1.23293441e+00\n",
      " 2.08323389e-02 3.74125180e-01 7.91623320e-03 9.85113959e-01\n",
      " 3.86827565e-01 4.73964333e-02 2.13955213e-01 4.28042438e-01\n",
      " 1.86761347e+00 3.51790169e-01 6.17161477e-01 2.17647379e-01\n",
      " 7.51792014e-01 1.73427397e-01 4.65750516e-01 4.06170164e-02\n",
      " 3.91266992e-01 3.22860690e-01 1.38015163e+00 1.71198268e-01\n",
      " 1.55445366e-01 2.43730828e-01 1.29647653e-01 3.18174002e-01\n",
      " 1.06468141e+00 7.99318285e-01 1.46061996e-01 4.93457306e-01\n",
      " 5.00863032e-01 5.61693140e-01 3.04545790e-01 1.30077577e-01\n",
      " 1.25666102e+00 6.87792447e-02 2.88830615e-01 5.26186172e-01\n",
      " 9.24985106e-02 4.23482674e-01 2.08997324e-01 7.50518223e-01\n",
      " 1.96477198e-01 7.65056145e-01 6.25836831e-02 3.94250943e-01\n",
      " 5.99279766e-01 1.03636268e+00 6.69180803e-01 6.58420921e-02\n",
      " 5.88365542e-01 3.53342406e-01 2.57310574e-01 8.50309215e-02\n",
      " 1.05400901e-01 1.84073495e+00 6.73952635e-01 1.21565293e+00\n",
      " 9.85961940e-01 2.33126962e-03 2.39840468e+00 1.56797255e-03\n",
      " 1.58214676e-01 8.23094140e-02 5.51304212e-01 3.94241598e-01\n",
      " 1.76171779e-01 8.58711313e-01 9.30409024e-01 3.88866409e-01\n",
      " 3.37600532e-01 2.15703272e-01 4.81340581e-01 4.19433517e-02\n",
      " 4.61784423e-01 3.45517757e-01 4.34011180e-02 6.01530216e-01\n",
      " 2.76412634e-02 9.33312032e-02 1.00170184e-01 6.27741710e-01\n",
      " 5.04875143e-02 2.76980455e-01 1.61564926e-01 4.88453908e-01\n",
      " 2.06929650e-01 7.72570690e-01 3.57199350e-01 2.55755319e-01]\n"
     ]
    }
   ],
   "source": [
    "expo = np.random.exponential(0.5,size)\n",
    "print(expo)"
   ]
  },
  {
   "cell_type": "code",
   "execution_count": 47,
   "id": "cfc87d38",
   "metadata": {},
   "outputs": [
    {
     "name": "stdout",
     "output_type": "stream",
     "text": [
      "1.3249273329748903\n",
      "1\n"
     ]
    },
    {
     "data": {
      "text/plain": [
       "array([1])"
      ]
     },
     "execution_count": 47,
     "metadata": {},
     "output_type": "execute_result"
    },
    {
     "data": {
      "image/png": "[encoded data removed]",
      "text/plain": [
       "<Figure size 432x288 with 1 Axes>"
      ]
     },
     "metadata": {
      "needs_background": "light"
     },
     "output_type": "display_data"
    }
   ],
   "source": [
    "\n",
    "def poisson_simulation(lam,size):\n",
    "    l=[]\n",
    "    S=0\n",
    "    i=1\n",
    "    X=0\n",
    "    while i<=size and S<=1:\n",
    "        U= np.random.uniform(0,1)\n",
    "        S=S+(-np.log(U))/lam\n",
    "        print(S)\n",
    "        if S>1 :\n",
    "            X=X+i*1 \n",
    "            print(X)\n",
    "        i=i+1\n",
    "        l.append(X)\n",
    "    plt.hist(l)\n",
    "    return np.array(l)\n",
    "poisson_simulation(0.44,size)"
   ]
  },
  {
   "cell_type": "code",
   "execution_count": 135,
   "id": "7511e5f6",
   "metadata": {},
   "outputs": [
    {
     "name": "stdout",
     "output_type": "stream",
     "text": [
      "0.83948829889126\n",
      "0.7449571440537143\n",
      "0.8923605008269981\n",
      "0.6255261588590092\n",
      "0.33952341803897534\n"
     ]
    },
    {
     "data": {
      "text/plain": [
       "5"
      ]
     },
     "execution_count": 135,
     "metadata": {},
     "output_type": "execute_result"
    }
   ],
   "source": [
    "def geometric_simulation(p,size):\n",
    "    i=1\n",
    "    U=np.random.uniform(0,1)\n",
    "    print(U)\n",
    "    while i<=size and U>p:\n",
    "        U=np.random.uniform(0,1)\n",
    "        print(U)\n",
    "        i=i+1\n",
    "    return i\n",
    "        \n",
    "geometric_simulation(0.6,size)"
   ]
  },
  {
   "cell_type": "code",
   "execution_count": 165,
   "id": "9c425baf",
   "metadata": {},
   "outputs": [
    {
     "data": {
      "text/plain": [
       "20.739280087829385"
      ]
     },
     "execution_count": 165,
     "metadata": {},
     "output_type": "execute_result"
    }
   ],
   "source": [
    "def gamma_simulation(lam,size):\n",
    "    S=0\n",
    "    for i in range(size):\n",
    "        U=np.random.uniform(0,1)\n",
    "        X=(-np.log(U))/lam\n",
    "        S=S+X\n",
    "    return S\n",
    "        \n",
    "gamma_simulation(lam,size)"
   ]
  },
  {
   "cell_type": "code",
   "execution_count": null,
   "id": "f219f8fd",
   "metadata": {},
   "outputs": [],
   "source": []
  }
 ],
 "metadata": {
  "kernelspec": {
   "display_name": "Python 3.10.8 64-bit (microsoft store)",
   "language": "python",
   "name": "python3"
  },
  "language_info": {
   "codemirror_mode": {
    "name": "ipython",
    "version": 3
   },
   "file_extension": ".py",
   "mimetype": "text/x-python",
   "name": "python",
   "nbconvert_exporter": "python",
   "pygments_lexer": "ipython3",
   "version": "3.10.8"
  },
  "vscode": {
   "interpreter": {
    "hash": "b7017eaa3a1146aa3353aaf1d457acd0d42a48245368b654c92322235b5e5999"
   }
  }
 },
 "nbformat": 4,
 "nbformat_minor": 5
}
